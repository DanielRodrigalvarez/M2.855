{
  "cells": [
    {
      "cell_type": "markdown",
      "metadata": {
        "id": "view-in-github",
        "colab_type": "text"
      },
      "source": [
        "<a href=\"https://colab.research.google.com/github/DanielRodrigalvarez/M2.855/blob/main/Mineria%20de%20dades/PAC3.ipynb\" target=\"_parent\"><img src=\"https://colab.research.google.com/assets/colab-badge.svg\" alt=\"Open In Colab\"/></a>"
      ]
    },
    {
      "cell_type": "markdown",
      "metadata": {
        "id": "g1q1mnorfHwx"
      },
      "source": [
        "<div style=\"width: 100%; clear: both;\">\n",
        "<div style=\"float: left; width: 50%;\">\n",
        "<img src=\"https://www.uoc.edu/portal/_resources/common/imatges/marca_UOC/llibre-estil/logo-UOC-2linies.png\", align=\"left\">\n",
        "</div>\n",
        "<div style=\"float: right; width: 50%;\">\n",
        "<p style=\"margin: 0; padding-top: 22px; text-align:right;\">M2.955 · Models avançats en mineria de dades</p>\n",
        "<p style=\"margin: 0; text-align:right;\">2023-1 · Màster universitari en Ciència de dades (Data science)</i>)</p>\n",
        "<p style=\"margin: 0; text-align:right; padding-button: 100px;\">Estudis d'Informàtica, Multimèdia i Telecomunicació</p>\n",
        "</div>\n",
        "</div>\n",
        "<div style=\"width:100%;\">&nbsp;</div>"
      ]
    },
    {
      "cell_type": "markdown",
      "metadata": {
        "id": "rFTsh39afHwz"
      },
      "source": [
        "# PAC 3: Mètodes supervisats\n",
        "\n",
        "En aquesta pràctica veurem diferents mètodes supervisats i intentarem optimitzar diferents mètriques. Veurem com els diferents models classifiquen els punts i amb els quals obtenim més precisió. Després aplicarem tot allò que hem après fins ara a un dataset nou simulant un cas pràctic real.\n",
        "\n",
        "1. [Exploració d'algorismes supervisats](#eje1) \\\n",
        "     1.0. Càrrega de dades \\\n",
        "     1.1. Naive-Bayes\\\n",
        "     1.2. Anàlisi Discriminant Lineal (LDA) i Anàlisi Discriminant Quadrtàtica (QDA)\\\n",
        "     1.3. K veïns més propers (KNN)\\\n",
        "     1.4. Màquines de suport vectorial (SVM)\\\n",
        "     1.5. Arbres de decisió\n",
        "2. [Implementació del cas pràctic](#eje2)\\\n",
        "     2.0. Càrrega de dades\\\n",
        "     2.1. Anàlisi Exploratori de Dades\\\n",
        "     2.2. Preprocessament de Dades\\\n",
        "     2.3. Modelització\\\n",
        "     2.4. Ajustament d'hiperparàmetres\\\n",
        "\n",
        "\n",
        "<u>Consideracions generals</u>:\n",
        "\n",
        "- La solució plantejada no pot utilitzar mètodes, funcions o paràmetres declarats **_deprecated_** en futures versions, a excepció de la càrrega de dades com s'indica posteriorment.\n",
        "- Aquesta PAC s'ha de fer de manera **estrictament individual**. Qualsevol indici de còpia serà penalitzat amb un suspens (D) per a totes les parts implicades i la possible avaluació negativa de lassignatura de forma íntegra.\n",
        "- Cal que l'estudiant indiqui **totes les fonts** que ha fet servir per a la realització de la PAC. Si no és així, es considerarà que l'estudiant ha comès plagi, i és penalitzat amb un suspens (D) i la possible avaluació negativa de l'assignatura de forma íntegra.\n",
        "\n",
        "<u>Format del lliurament</u>:\n",
        "\n",
        "- Alguns exercicis poden suposar diversos minuts d'execució, per la qual cosa el lliurament s'ha de fer a **format notebook** ia **format html**, on es vegi el codi, els resultats i comentaris de cada exercici. Es pot exportar el notebook a HTML des del menú File $\\to$ Download as $\\to$ HTML.\n",
        "- Hi ha un tipus de cel·la especial per albergar text. Aquest tipus de cel·la us serà molt útil per respondre les diferents preguntes teòriques plantejades al llarg de lactivitat. Per canviar el tipus de cel·la a aquest tipus, al menú: Cell $\\to$ Cell Type $\\to$ Markdown.\n",
        "- **Per a més visualització, se suggereix que l'anàlisi es respongui dins de les cel·les de color verd.**"
      ]
    },
    {
      "cell_type": "markdown",
      "metadata": {
        "id": "DSSB2tHkfHw0"
      },
      "source": [
        "<div class=\"alert alert-block alert-info\">\n",
        "    <strong>Nombre y apellidos:</strong>\n",
        "</div>"
      ]
    },
    {
      "cell_type": "code",
      "execution_count": 19,
      "metadata": {
        "id": "bn0ZMDyKfHw0"
      },
      "outputs": [],
      "source": [
        "import numpy as np\n",
        "import pandas as pd\n",
        "import pickle\n",
        "import seaborn as sns\n",
        "import matplotlib.pyplot as plt\n",
        "from sklearn.model_selection import train_test_split\n",
        "%matplotlib inline\n"
      ]
    },
    {
      "cell_type": "markdown",
      "metadata": {
        "id": "EIkGtp_BfHw0"
      },
      "source": [
        "<a id='ex1'></a>\n",
        "# 1. Exploració d'Algorismes Supervisats (5 punts)\n",
        "\n",
        "## 1.0 Càrrega de dades\n",
        "\n",
        "Treballarem amb el conjunt de dades \"Spiral\", un conjunt sintètic àmpliament utilitzat en l'aprenentatge automàtic i la mineria de dades per a problemes de classificació no lineals. Aquest conjunt es compon de dues espirals entrellaçades, similars a les espirals d'Arquimedes, on cada punt està uniformement distribuït al pla i etiquetat amb una de dues classes.\n",
        "\n",
        "La teva tasca en aquesta secció és aplicar un algorisme de classificació per predir la classe d'un punt desconegut basant-te en les coordenades (x, y). Aquest desafiament és interessant a causa de la naturalesa no lineal de les espirals entrellaçades, cosa que posa a prova els algorismes daprenentatge automàtic.\n",
        "\n",
        "Seguiu aquests passos:\n",
        "\n",
        "1. Utilitza el codi proveït per carregar 2000 punts a la variable `X` i les corresponents etiquetes o grups (en forma numèrica) a la variable `y`.\n",
        "2. Confirma que la càrrega de dades ha estat exitosa. Per fer-ho, verifica les dimensions de `X` i `y`.\n",
        "3. Visualitza el gràfic dels punts, utilitzant colors diferents per a cada grup, per tenir una representació visual clara del conjunt de dades."
      ]
    },
    {
      "cell_type": "code",
      "source": [
        "from google.colab import drive\n",
        "drive.mount('/content/drive')"
      ],
      "metadata": {
        "colab": {
          "base_uri": "https://localhost:8080/"
        },
        "id": "P5tJyUp5bAjg",
        "outputId": "81449874-1c6a-472d-d42a-2403a3528915"
      },
      "execution_count": 8,
      "outputs": [
        {
          "output_type": "stream",
          "name": "stdout",
          "text": [
            "Drive already mounted at /content/drive; to attempt to forcibly remount, call drive.mount(\"/content/drive\", force_remount=True).\n"
          ]
        }
      ]
    },
    {
      "cell_type": "code",
      "execution_count": 12,
      "metadata": {
        "id": "MPEdyuVLfHw1",
        "colab": {
          "base_uri": "https://localhost:8080/",
          "height": 465
        },
        "outputId": "60b3d37a-d819-493c-f775-4063eef546f4"
      },
      "outputs": [
        {
          "output_type": "stream",
          "name": "stdout",
          "text": [
            "Dimensiones de X (2000, 2)\n",
            "Dimensiones de y (2000,)\n"
          ]
        },
        {
          "output_type": "display_data",
          "data": {
            "text/plain": [
              "<Figure size 640x480 with 1 Axes>"
            ],
            "image/png": "[encoded data removed]"
          },
          "metadata": {}
        }
      ],
      "source": [
        "data = pd.read_pickle('/content/drive/MyDrive/UOC - Assignatures/Mineria de dades, models avançats/PAC3/spiral.pickle')\n",
        "\n",
        "# Convertir les dues primeres columnes en un array de numpy\n",
        "X = data[['X1', 'X2']].values\n",
        "\n",
        "# Convertir la darrera columna en un array de numpy\n",
        "y = data['y'].values\n",
        "\n",
        "print('Dimensiones de X', X.shape)\n",
        "print('Dimensiones de y', y.shape)\n",
        "\n",
        "# Fer la representació gràfica\n",
        "plt.scatter(X[:,0], X[:,1], c=y, cmap=plt.cm.viridis, alpha=0.5)\n",
        "plt.show()"
      ]
    },
    {
      "cell_type": "markdown",
      "metadata": {
        "id": "81-zMw2NfHw1"
      },
      "source": [
        "Al llarg dels exercicis, aprendràs a visualitzar gràficament les fronteres de decisió generades per diferents models. Per aconseguir això, utilitzarem la funció definida a continuació, que segueix els passos següents:\n",
        "\n",
        "1. Crea una [malla](https://docs.scipy.org/doc/numpy/reference/generated/numpy.meshgrid.html) (meshgrid) usant els valors mínims i màxims de 'x' i 'y'.\n",
        "2. Realitzeu prediccions del classificador utilitzant els valors d'aquesta malla.\n",
        "3. Redimensiona (_reshape_) les dades perquè tinguin el format adequat.\n",
        "\n",
        "Un cop completats aquests passos, estarem llestos per generar el gràfic de les fronteres de decisió i superposar els punts reals. Així, podrem observar les àrees que el model identifica com a pertanyents a una classe específica i aquelles que en considera una altra. En superposar els punts reals, avaluaré com el model classifica correctament els punts a les àrees corresponents.\n",
        "\n",
        "En general, veure les fronteres de decisió ens proporcionarà una comprensió visual del rendiment del model."
      ]
    },
    {
      "cell_type": "code",
      "execution_count": 14,
      "metadata": {
        "id": "Pwj20RkRfHw1"
      },
      "outputs": [],
      "source": [
        "def plot_decision_boundary(clf, X, Y, cmap='Paired'):\n",
        "    if not isinstance(X, np.ndarray):  # Si X no es un array de numpy, lo convierte\n",
        "        X = X.to_numpy()\n",
        "\n",
        "    h = 0.02\n",
        "    x_min, x_max = X[:,0].min() - 10*h, X[:,0].max() + 10*h\n",
        "    y_min, y_max = X[:,1].min() - 10*h, X[:,1].max() + 10*h\n",
        "    xx, yy = np.meshgrid(np.arange(x_min, x_max, h),\n",
        "                         np.arange(y_min, y_max, h))\n",
        "    Z = clf.predict(np.c_[xx.ravel(), yy.ravel()])\n",
        "    Z = Z.reshape(xx.shape)\n",
        "\n",
        "    plt.figure(figsize=(7,7))\n",
        "    plt.contourf(xx, yy, Z, cmap=cmap, alpha=0.25)\n",
        "    plt.contour(xx, yy, Z, colors='k', linewidths=0.7)\n",
        "    plt.scatter(X[:,0], X[:,1], c=Y, cmap=cmap, edgecolors='k', label=Y);"
      ]
    },
    {
      "cell_type": "markdown",
      "metadata": {
        "id": "W87-jXjNfHw2"
      },
      "source": [
        "<div class=\"alert alert-block alert-info\">\n",
        "    <strong>Implementació:</strong>\n",
        "\n",
        "Dividiu el _dataset_ en dos subconjunts: __*train*__ i __*test*__. Assigna el 80% de les dades al conjunt d'entrenament (__*train*__) i el 20% al conjunt de prova (__*test*__). Anomena els conjunts com `X_train`, `X_test`, `y_train` i `y_test`, assegurant-te d'utilitzar l'opció `random_state = 24` per garantir la reproductibilitat dels resultats.\n",
        "\n",
        "Per realitzar aquesta divisió, empreu la funció `train_test_split` de la biblioteca `sklearn`.\n",
        "\n",
        "Recordeu que és essencial dividir el conjunt de dades en conjunts d'entrenament i prova. Aquesta divisió és crucial per avaluar el rendiment del teu model de manera efectiva i fiable. Així podràs entendre com es comportarà el model amb dades noves i no vistes durant el seu entrenament.\n",
        "    </div>"
      ]
    },
    {
      "cell_type": "markdown",
      "metadata": {
        "id": "cHmS9sBYfHw2"
      },
      "source": [
        "<div class=\"alert alert-block alert-danger\">\n",
        "<strong>Solución:</strong>\n",
        "</div>"
      ]
    },
    {
      "cell_type": "code",
      "execution_count": 21,
      "metadata": {
        "id": "f5SGskXhfHw2"
      },
      "outputs": [],
      "source": [
        "X_train, X_test, y_train, y_test = train_test_split(X, y, test_size=0.2, random_state=24)"
      ]
    },
    {
      "cell_type": "markdown",
      "metadata": {
        "id": "2k77YKbhfHw2"
      },
      "source": [
        "## 1.1. Gaussian Naïve Bayes\n",
        "\n",
        "El propòsit d'aquest primer exercici és comprendre el funcionament de l'algorisme Naïve-Bayes, un peculiar algorisme que es basa en el teorema de Bayes per calcular la probabilitat que una observació pertanyi a cadascuna de les classes. Aquest model assumeix que les característiques d'entrada són independents entre si, cosa que permet simplificar el càlcul de les probabilitats condicionals."
      ]
    },
    {
      "cell_type": "markdown",
      "metadata": {
        "id": "sYiQpphdfHw2"
      },
      "source": [
        "<div class=\"alert alert-block alert-info\">\n",
        "<strong>Implementació:</strong>\n",
        "\n",
        "1. **Entrena un Model de Naïve-Bayes:** Utilitza el conjunt de dades de _train_ per entrenar un model de Naïve-Bayes. Empra el classificador `GaussianNB` de la biblioteca `sklearn` per a aquest fi.\n",
        "\n",
        "2. **Calcula l'_Accuracy_ del Model:** Un cop entrenat el model, calcula la seva precisió (_accuracy_) tant en el conjunt de _train_ com en el de _test_. Això et permetrà avaluar què tan bé funciona el teu model.\n",
        "\n",
        "3. **Calcula la Matriu de Confusió:** Utilitza el conjunt de _test_ per calcular la matriu de confusió del model. Aquesta matriu us ajudarà a entendre de millor manera els encerts i errors del vostre classificador.\n",
        "\n",
        "4. **Representa Gràficament la Frontera de Decisió:** Finalment, visualitza la frontera de decisió del model utilitzant el conjunt de _test_. Podeu fer-ho amb l'ajuda de la funció `plot_decision_boundary` que ja heu creat prèviament.\n",
        "\n",
        "Per fer aquests càlculs i visualitzacions, utilitza les funcions `accuracy_score` i `confusion_matrix` del paquet `metrics` de `sklearn`.\n",
        "\n",
        "</div>"
      ]
    },
    {
      "cell_type": "markdown",
      "metadata": {
        "id": "44uFc_xEfHw2"
      },
      "source": [
        "<div class=\"alert alert-block alert-danger\">\n",
        "<strong>Solución:</strong>\n",
        "</div>"
      ]
    },
    {
      "cell_type": "code",
      "execution_count": null,
      "metadata": {
        "id": "Ro5e2MrLfHw3"
      },
      "outputs": [],
      "source": []
    },
    {
      "cell_type": "markdown",
      "metadata": {
        "id": "6EB_a4o-fHw3"
      },
      "source": [
        "<div class=\"alert alert-block alert-info\">\n",
        "<strong>Anàlisi:</strong>\n",
        "\n",
        "1. **Analitza les Fronteres de Decisió:** Observa i descriu com són les fronteres de decisió obtingudes. Reflexiona i respon: Té sentit que les fronteres tinguin aquesta forma considerant l'algorisme de Naïve-Bayes que has fet servir? Fonamenta la teva resposta sobre la base de les característiques i suposicions de l'algorisme.\n",
        "\n",
        "2. **Avalua les Prediccions al Conjunt de Test:** Examina com són les prediccions que el model ha realitzat sobre el conjunt de test. Discuteix l'efectivitat del model i qualsevol patró o tendència que observis a les prediccions. Considera aspectes com la precisió, la matriu de confusió i qualsevol altre factor rellevant que hagis notat durant la implementació.\n",
        "</div>"
      ]
    },
    {
      "cell_type": "markdown",
      "metadata": {
        "id": "mAwzg5BafHw3",
        "tags": []
      },
      "source": [
        "<div class=\"alert alert-block alert-success\">\n",
        "<strong>Respuesta:</strong>\n",
        "\n",
        "\n",
        "</div>"
      ]
    },
    {
      "cell_type": "markdown",
      "metadata": {
        "id": "I32OtF0CfHw3"
      },
      "source": [
        "### 1.2 Anàlisi Discriminant Lineal (LDA) i Anàlisi Discriminant Quadràtic (QDA)\n",
        "\n",
        "Ara analitzaràs dos algorismes que es basen en la transformació lineal de les característiques d'entrada per tal de maximitzar la separació entre les classes. Aquests models operen sota la suposició que les característiques segueixen una distribució gaussiana. Això us permetrà calcular les probabilitats condicionals de cada classe. Amb aquests càlculs, assignaràs a cada observació la classe que presenti la probabilitat condicional més gran.\n"
      ]
    },
    {
      "cell_type": "markdown",
      "metadata": {
        "id": "LmyzyqT6fHw3"
      },
      "source": [
        "<div class=\"alert alert-block alert-info\">\n",
        "<strong>Implementació:</strong>\n",
        "\n",
        "Seguiu aquests passos amb el dataset d'entrenament (_train_):\n",
        "    \n",
        "1. Entrena un model d'Anàlisi Discriminant Lineal (LDA) utilitzant el classificador `LinearDiscriminantAnalysis` de `sklearn`.\n",
        "2. Calcula el _accuracy_ (precisió) del model tant en les dades de _train_ com de _test_.\n",
        "3. Calcula la matriu de confusió utilitzant les dades de _test_.\n",
        "4. Representa gràficament la frontera de decisió amb les dades de _test_.\n",
        "\n",
        "Aquestes accions us ajudaran a avaluar l'eficàcia del model LDA en el vostre conjunt de dades ia entendre millor com classifica les observacions.\n",
        "\n",
        "</div>"
      ]
    },
    {
      "cell_type": "markdown",
      "metadata": {
        "id": "fn0d67jSYPNV"
      },
      "source": [
        "<div class=\"alert alert-block alert-danger\">\n",
        "<strong>Solución:</strong>\n",
        "</div>"
      ]
    },
    {
      "cell_type": "code",
      "execution_count": null,
      "metadata": {
        "id": "rZabNkNJYPNV"
      },
      "outputs": [],
      "source": []
    },
    {
      "cell_type": "markdown",
      "metadata": {
        "id": "CWXabsd9fHw3"
      },
      "source": [
        "<div class=\"alert alert-block alert-info\">\n",
        "<strong>Anàlisi:</strong>\n",
        "\n",
        "1. Observa les fronteres de decisió que has generat. Reflexiona sobre la forma: S'ajusten al que esperaries de l'algoritme d'Anàlisi Discriminant Lineal (LDA)? Considera la naturalesa lineal de l'algorisme i com això influeix a la forma de les fronteres.\n",
        "2. Avalua les prediccions realitzades sobre el conjunt de tests. Analitza'n la precisió i com es distribueixen respecte a les fronteres de decisió. Són coherents aquestes prediccions amb el que observes a les fronteres de decisió?\n",
        "\n",
        "Aquestes reflexions us permetran comprendre millor l'efectivitat del model LDA i la seva adequació per al conjunt de dades amb què esteu treballant.\"\n",
        "</div>"
      ]
    },
    {
      "cell_type": "markdown",
      "metadata": {
        "id": "_7v6A60kfHw3",
        "tags": []
      },
      "source": [
        "<div class=\"alert alert-block alert-success\">\n",
        "<strong>Resposta:</strong>\n",
        "\n",
        "\n",
        "</div>"
      ]
    },
    {
      "cell_type": "markdown",
      "metadata": {
        "id": "K5IEnCibfHw3"
      },
      "source": [
        "<div class=\"alert alert-block alert-info\">\n",
        "<strong>Implementació:</strong>\n",
        "\n",
        "Realitza els passos següents:\n",
        "\n",
        "1. Amb el dataset d'entrenament (_train_), entrena un model d'Anàlisi Discriminant Quadràtica (QDA) usant el classificador `QuadraticDiscriminantAnalysis` de `sklearn`.\n",
        "2. Calcula el _accuracy_ (precisió) del model tant en les dades de _train_ com de _test_.\n",
        "3. Calcula la matriu de confusió utilitzant les dades de _test_.\n",
        "4. Representa gràficament la frontera de decisió amb les dades de _test_.\n",
        "\n",
        "Aquests passos us ajudaran a avaluar com el model QDA es comporta amb el vostre conjunt de dades, ia entendre la seva capacitat per classificar i diferenciar entre les classes.\"\n",
        "\n",
        "</div>"
      ]
    },
    {
      "cell_type": "markdown",
      "metadata": {
        "id": "s30__BWNYPNW"
      },
      "source": [
        "<div class=\"alert alert-block alert-danger\">\n",
        "<strong>Solución:</strong>\n",
        "</div>"
      ]
    },
    {
      "cell_type": "code",
      "execution_count": null,
      "metadata": {
        "id": "FpJRebcgYPNW"
      },
      "outputs": [],
      "source": []
    },
    {
      "cell_type": "markdown",
      "metadata": {
        "id": "A-_m2BjTfHw4"
      },
      "source": [
        "<div class=\"alert alert-block alert-info\">\n",
        "<strong>Anàlisi:</strong>\n",
        "\n",
        "1. Examina les fronteres de decisió que has generat. Reflexiona sobre la seva forma: És coherent amb allò que esperaries de l'algorisme d'Anàlisi Discriminant Quadràtica (QDA)? Considera que la naturalesa quadràtica de l'algorisme podria influir en la forma d'aquestes fronteres.\n",
        "2. Avalua les prediccions realitzades sobre el conjunt de tests. Observa la precisió i com es distribueixen en relació amb les fronteres de decisió. Són aquestes prediccions consistents amb les fronteres observades?\n",
        "3. Reflexiona sobre les diferències entre els algorismes LDA i QDA. En què es distingeixen en termes de supòsits, enfocament i resultats a les teves dades?\n",
        "\n",
        "Aquesta anàlisi us permetrà comprendre les característiques i l'eficàcia dels dos models, LDA i QDA, i com s'apliquen al vostre conjunt de dades.\"\n",
        "</div>"
      ]
    },
    {
      "cell_type": "markdown",
      "metadata": {
        "id": "ArP92A9EfHw4",
        "tags": []
      },
      "source": [
        "<div class=\"alert alert-block alert-success\">\n",
        "<strong>Resposta:</strong>\n",
        "\n",
        "\n",
        "</div>"
      ]
    },
    {
      "cell_type": "markdown",
      "metadata": {
        "id": "gjEyHwXFfHw4"
      },
      "source": [
        "### 1.3. KNN\n",
        "\n",
        "En aquest punt, entendreu el funcionament de l'algorisme KNN (K-Nearest-Neighbor), que es basa en la proximitat dels punts de dades en un espai de característiques. Analitzaràs els seus avantatges i desavantatges, i comprendràs com els paràmetres que el componen influeixen en el comportament.\n",
        "\n",
        "KNN és un algorisme de tipus supervisat basat en instància. Això significa:\n",
        "\n",
        "- Supervisat: El vostre conjunt de dades d'entrenament està etiquetat amb la classe o resultat esperat.\n",
        "- Basat en instància (_Lazy Learning_): L'algorisme no aprèn explícitament un model, com en la regressió logística o els arbres de decisió. En canvi, memoritza les instàncies d'entrenament i les utilitza com a \"coneixement\" a la fase de predicció.\n",
        "\n",
        "Per entendre com funciona el KNN, seguiu aquests passos:\n",
        "\n",
        "1. Calculeu la distància entre l'ítem a classificar i els altres ítems del dataset d'entrenament.\n",
        "2. Selecciona els \"k\" elements més propers, és a dir, aquells amb la menor distància, segons el tipus de distància que utilitzis (euclidiana, cosinus, manhattan, etc).\n",
        "3. Realitza una \"votació de majoria\" entre els k punts seleccionats: la classe que predomini en aquests punts decidirà la classificació final de l'ítem analitzat."
      ]
    },
    {
      "cell_type": "markdown",
      "metadata": {
        "id": "TADnYVTPfHw4"
      },
      "source": [
        "<div class=\"alert alert-block alert-info\">\n",
        "<strong>Implementació:</strong>\n",
        "\n",
        "Realitza els passos següents amb el dataset d'entrenament (_train_):\n",
        "\n",
        "1. Entrena un classificador KNN amb l'hiperparàmetre `n_neighbors=2` usant el classificador `KNeighborsClassifier` de `sklearn`.\n",
        "2. Calcula el _accuracy_ (precisió) del model tant en les dades de _train_ com de _test_.\n",
        "3. Calcula la matriu de confusió utilitzant les dades de _test_.\n",
        "4. Representa gràficament la frontera de decisió amb les dades de _test_.\n",
        "\n",
        "Si en entrenar el classificador apareix un avís (warning) i desitges ignorar-lo, executa el codi següent abans de l'entrenament:\n",
        "\n",
        "`import warnings`\n",
        "`warnings.filterwarnings('ignore', message='^.*will change.*$', category=FutureWarning)`\"\n",
        "\n",
        "Això us permetrà avaluar l'efectivitat del model KNN amb `n_neighbors=2` en el vostre conjunt de dades, i entendre com es comporta en termes de classificació i separació de classes.\n",
        "    \n",
        "    \n",
        "    \n",
        "</div>"
      ]
    },
    {
      "cell_type": "markdown",
      "metadata": {
        "id": "pwy2LoxhYPNX"
      },
      "source": [
        "<div class=\"alert alert-block alert-danger\">\n",
        "<strong>Solución:</strong>\n",
        "</div>"
      ]
    },
    {
      "cell_type": "code",
      "execution_count": null,
      "metadata": {
        "id": "D-2FrZUkYPNX"
      },
      "outputs": [],
      "source": []
    },
    {
      "cell_type": "markdown",
      "metadata": {
        "id": "tF_2dKwAfHw8"
      },
      "source": [
        "Al model que has entrenat, has fixat el paràmetre `n_neighbors` de forma arbitrària. Tot i això, és possible que amb un altre valor obtinguis una millor predicció. Per trobar el valor òptim dels paràmetres d'un model (_hyperparameter tunning_), sovint s'utilitza una cerca de reixeta (_grid search_). Això implica entrenar un model per a cada combinació possible d'hiperparàmetres i avaluar-lo mitjançant la validació creuada (_cross validation_) amb 5 particions estratificades. Després seleccionaràs la combinació d'hiperparàmetres que hagi obtingut els millors resultats.\n",
        "\n",
        "En aquest cas, et centraràs a optimitzar un sol hiperparàmetre:\n",
        "\n",
        "- 𝑘: el nombre de veïns que es consideren per classificar un nou exemple. Heu de provar amb tots els valors entre 1 i 20.\n",
        "\n",
        "Realitza aquest procés per identificar el nombre òptim de veïns, cosa que et permetrà millorar la precisió de les teves prediccions amb el model KNN."
      ]
    },
    {
      "cell_type": "markdown",
      "metadata": {
        "id": "2UDe0lBofHw8"
      },
      "source": [
        "<div class=\"alert alert-block alert-info\">\n",
        "    <strong>Implementación:</strong>\n",
        "\n",
        "Para calcular el valor óptimo del hiperparámetro _k_ (`n_neighbors`), debes realizar una búsqueda de rejilla con validación cruzada. Este proceso te ayudará a encontrar el valor óptimo de _k_. Para cada valor, calcula su promedio y la desviación estándar. Luego, implementa un _heatmap_ para visualizar la precisión según los diferentes valores del hiperparámetro.\n",
        "\n",
        "Utiliza el módulo `GridSearchCV` de `sklearn` para calcular el mejor hiperparámetro. Para la visualización del _heatmap_, emplea la librería `Seaborn`.\n",
        "\n",
        "Estos pasos te permitirán identificar de manera efectiva y visual el valor de _k_ que maximiza la precisión de tu modelo KNN.\"\n",
        "</div>"
      ]
    },
    {
      "cell_type": "markdown",
      "metadata": {
        "id": "5hb9rahiYPNY"
      },
      "source": [
        "<div class=\"alert alert-block alert-danger\">\n",
        "<strong>Solución:</strong>\n",
        "</div>"
      ]
    },
    {
      "cell_type": "code",
      "execution_count": null,
      "metadata": {
        "id": "qb8GHGHOfHw8"
      },
      "outputs": [],
      "source": []
    },
    {
      "cell_type": "markdown",
      "metadata": {
        "id": "EKBqIrRJfHw8"
      },
      "source": [
        "<div class=\"alert alert-block alert-info\">\n",
        "<strong>Implementació:</strong>\n",
        "\n",
        "Seguiu aquests passos amb el dataset d'entrenament (_train_):\n",
        "\n",
        "1. Entrena un classificador KNN utilitzant el millor hiperparàmetre que hagis trobat.\n",
        "2. Calcula el _accuracy_ (precisió) del model tant en les dades de _train_ com de _test_.\n",
        "3. Calcula la matriu de confusió utilitzant les dades de _test_.\n",
        "4. Representa gràficament la frontera de decisió amb les dades de _test_.\n",
        "\n",
        "Aquest procés us permetrà veure com l'hiperparàmetre òptim que heu identificat millora l'efectivitat del vostre model KNN en la classificació de les dades.\n",
        "</div>"
      ]
    },
    {
      "cell_type": "markdown",
      "metadata": {
        "id": "Z8sK0HQIYPNZ"
      },
      "source": [
        "<div class=\"alert alert-block alert-danger\">\n",
        "<strong>Solución:</strong>\n",
        "</div>"
      ]
    },
    {
      "cell_type": "code",
      "execution_count": null,
      "metadata": {
        "id": "mK3awkbwfHw8"
      },
      "outputs": [],
      "source": []
    },
    {
      "cell_type": "markdown",
      "metadata": {
        "id": "teluDtnHfHw8"
      },
      "source": [
        "<div class=\"alert alert-block alert-info\">\n",
        "<strong>Anàlisi:</strong>\n",
        "\n",
        "1. Comenta els resultats obtinguts en la cerca del millor hiperparàmetre. Reflexiona sobre com va variar el rendiment del model amb els diferents valors de `n_neighbors`.\n",
        "2. Analitza com es visualitza gràficament el canvi del valor de `n_neighbors`. Observes alguna tendència o patró clar? És coherent aquesta diferència entre els dos gràfics en canviar el paràmetre?\n",
        "3. Examina les fronteres de decisió que has generat. La forma d'aquestes fronteres té sentit tenint en compte l'algorisme KNN utilitzat? Pensa com l'elecció del nombre de veïns influeix en la forma de la frontera.\n",
        "4. Avalua les prediccions realitzades sobre el conjunt de tests. Observa la precisió i com es distribueixen en relació amb les fronteres de decisió. Són aquestes prediccions consistents amb el que observes a les fronteres de decisió?\n",
        "\n",
        "Aquesta anàlisi us ajudarà a comprendre l'eficàcia del model KNN amb diferents configuracions de `n_neighbors` i el seu impacte en la classificació de les dades.\"\n",
        "</div>"
      ]
    },
    {
      "cell_type": "markdown",
      "metadata": {
        "id": "ET55syCqfHw8",
        "tags": []
      },
      "source": [
        "<div class=\"alert alert-block alert-success\">\n",
        "<strong>Respuesta:</strong>\n",
        "\n",
        "\n",
        "</div>"
      ]
    },
    {
      "cell_type": "markdown",
      "metadata": {
        "id": "UoWjLa8LfHw9"
      },
      "source": [
        "### 1.4. SVM\n",
        "\n",
        "En aquesta secció, exploraràs les Màquines de Vectors de Suport (SVM), que es basen en el concepte del _Maximal Margin Classifier_ i l'hiperplà.\n",
        "\n",
        "Un hiperplà en un espai p-dimensional es defineix com un subespai pla i afí de dimensions p-1. En dues dimensions, és una recta; en tres, un pla convencional. Per a dimensions més grans de tres, encara que no és intuïtiu visualitzar-lo, el concepte es manté.\n",
        "\n",
        "Quan els casos són perfectament separables de manera lineal, sorgeixen infinits possibles hiperplans. Per seleccionar el classificador òptim, utilitza el concepte de _maximal margin hyperplane_, l'hiperplà més allunyat de totes les observacions d'entrenament. Aquest es defineix calculant la distància perpendicular mínima (marge) de les observacions a un hiperplà. L'hiperplà òptim és el que maximitza aquest marge.\n",
        "\n",
        "En el procés d'optimització, has de tenir en compte que només les observacions al marge o que el violen (vectors suport) influeixen a l'hiperplà. Aquests vectors suport són els que defineixen el classificador."
      ]
    },
    {
      "cell_type": "markdown",
      "metadata": {
        "id": "WMxzknM5fHw9"
      },
      "source": [
        "#### Els _kernels_ a SVM\n",
        "\n",
        "En situacions on no podeu trobar un hiperplà que separi dues classes, és a dir, quan les classes no són linealment separables, podeu utilitzar el truc del nucli (_kernel trick_). Aquest mètode permet treballar en una dimensió nova on és possible trobar un hiperplà per separar les classes. Pots veure un exemple a [aquest vídeo](https://www.youtube.com/watch?v=OdlNM96sHio).\n",
        "\n",
        "Igual que amb el KNN, les SVM també depenen de diversos hiperparàmetres. En aquest cas, t'enfocaràs a optimitzar dos hiperparàmetres:\n",
        "\n",
        "1. **C**: la regularització, que és el valor de penalització dels errors a la classificació. Aquest valor indica el compromís entre obtenir l'hiperplà amb el marge més gran possible i classificar-ne correctament el màxim nombre d'exemples. Has de provar els valors següents: 0.01, 0.1, 1, 10, 50, 100 i 200.\n",
        "   \n",
        "2. **Gama**: un coeficient que multiplica la distància entre dos punts al nucli radial. En termes simples, com més petit sigui gamma, més influència tindran dos punts propers. Has de provar els valors: 0.001, 0.01, 0.1, 1 i 10.\n",
        "\n",
        "Per validar el rendiment de l'algorisme amb cada combinació d'hiperparàmetres, utilitzeu la validació creuada (_cross-validation_) amb 4 particions estratificades."
      ]
    },
    {
      "cell_type": "markdown",
      "metadata": {
        "id": "UdHJe2affHw9"
      },
      "source": [
        "<div class=\"alert alert-block alert-info\">\n",
        "     <strong>Implementació:</strong>\n",
        "\n",
        "\n",
        "1. Calcula el valor òptim dels hiperparàmetres _C_ i _gama_ utilitzant una cerca de reixeta amb validació creuada. Aquest procés us ajudarà a trobar els valors òptims.\n",
        "2. Per a cada combinació de valors, calcula'n la mitjana i la desviació estàndard.\n",
        "3. Fes un _heatmap_ per visualitzar la precisió segons els diferents valors dels hiperparàmetres.\n",
        "\n",
        "Utilitza el mòdul `GridSearchCV` de `sklearn` per calcular els millors hiperparàmetres amb el classificador SVC (de `SVM` de `sklearn`). Per a la visualització del _heatmap_, empra la llibreria `Seaborn`.\n",
        "\n",
        "Aquests passos us permetran identificar de manera efectiva i visual els valors de _C_ i _gama_ que maximitzen la precisió del vostre model SVM.\n",
        "</div>"
      ]
    },
    {
      "cell_type": "markdown",
      "metadata": {
        "id": "LYucipm4YPNh"
      },
      "source": [
        "<div class=\"alert alert-block alert-danger\">\n",
        "<strong>Solución:</strong>\n",
        "</div>"
      ]
    },
    {
      "cell_type": "code",
      "execution_count": null,
      "metadata": {
        "id": "eBxQod7LfHw9"
      },
      "outputs": [],
      "source": []
    },
    {
      "cell_type": "markdown",
      "metadata": {
        "id": "_E-ae6x0fHw9"
      },
      "source": [
        "<div class=\"alert alert-block alert-info\">\n",
        "<strong>Implementació:</strong>\n",
        "\n",
        "Realitza els passos següents amb el dataset d'entrenament (_train_):\n",
        "\n",
        "1. Entrena un model SVM fent servir la millor combinació de paràmetres que hagis trobat.\n",
        "2. Calcula el _accuracy_ (precisió) del model tant en les dades de _train_ com de _test_.\n",
        "3. Calcula la matriu de confusió utilitzant les dades de _test_.\n",
        "4. Representa gràficament la frontera de decisió amb les dades de _test_.\n",
        "\n",
        "Aquest procés us permetrà veure com la millor combinació de paràmetres millora l'efectivitat del vostre model SVM en la classificació de les dades.\n",
        "</div>"
      ]
    },
    {
      "cell_type": "markdown",
      "metadata": {
        "id": "MW7Y7QUoYPNi"
      },
      "source": [
        "<div class=\"alert alert-block alert-danger\">\n",
        "<strong>Solución:</strong>\n",
        "</div>"
      ]
    },
    {
      "cell_type": "code",
      "execution_count": null,
      "metadata": {
        "id": "Qf2kQHuMfHw9"
      },
      "outputs": [],
      "source": []
    },
    {
      "cell_type": "markdown",
      "metadata": {
        "id": "oT7FOpk9fHw9"
      },
      "source": [
        "<div class=\"alert alert-block alert-info\">\n",
        "<strong>Anàlisi:</strong>\n",
        "\n",
        "1. Comenta els resultats obtinguts en la cerca dels millors hiperparàmetres. Reflexiona sobre com va variar el rendiment del model SVM amb els diferents valors de _C_ i _gama_. Considereu si els valors òptims trobats tenen sentit en el context del vostre conjunt de dades.\n",
        "2. Examina les fronteres de decisió que has generat amb el model SVM. La forma d'aquestes fronteres és coherent amb allò que esperaries de l'algorisme utilitzat? Pensa com la combinació d'hiperparàmetres seleccionats podria influir en la forma de les fronteres.\n",
        "3. Avalua les prediccions realitzades sobre el conjunt de tests. Observa la precisió i com es distribueixen en relació amb les fronteres de decisió. Són aquestes prediccions consistents amb el que observes a les fronteres de decisió?\n",
        "\n",
        "Aquesta anàlisi us ajudarà a comprendre l'eficàcia del model SVM amb els hiperparàmetres seleccionats i el seu impacte en la classificació de les dades.\"\n",
        "</div>"
      ]
    },
    {
      "cell_type": "markdown",
      "metadata": {
        "id": "kan9R0kpfHw9",
        "tags": []
      },
      "source": [
        "<div class=\"alert alert-block alert-success\">\n",
        "<strong>Resposta:</strong>\n",
        "\n",
        "\n",
        "</div>"
      ]
    },
    {
      "cell_type": "markdown",
      "metadata": {
        "id": "x9Z1MzFbfHw9"
      },
      "source": [
        "### 1.5. Arbres de decisió\n",
        "\n",
        "En aquesta secció, exploraràs els arbres de decisió, models predictius que es basen en regles binàries (si/no) per classificar les observacions segons els seus atributs i predir el valor de la variable resposta. Aquests arbres poden ser classificadors, com en el teu exemple, o tornadors per predir variables contínues.\n",
        "\n",
        "#### Construcció d'un Arbre\n",
        "\n",
        "Per construir un arbre, segueix l'algorisme de *recursive binary splitting*:\n",
        "\n",
        "1. Comença a la part superior de l'arbre, on totes les observacions pertanyen a la mateixa regió.\n",
        "2. Identifica tots els possibles punts de tall per a cadascun dels predictors. Aquests punts de tall són els diferents nivells dels predictors.\n",
        "3. Avalua les possibles divisions per a cada predictor fent servir una mesura específica. En els classificadors, aquestes mesures poden ser el *classification error rate*, l'índex Gini, l'entropia o el txi-square.\n",
        "\n",
        "Comprendre aquests passos t'ajudarà a entendre com els arbres de decisió creen divisions binàries per classificar les dades i com es poden aplicar tant per classificació com per regressió."
      ]
    },
    {
      "cell_type": "markdown",
      "metadata": {
        "id": "wTnIbWTYfHw9"
      },
      "source": [
        "<div class=\"alert alert-block alert-info\">\n",
        "<strong>Implementació:</strong>\n",
        "\n",
        "Seguiu aquests passos:\n",
        "\n",
        "1. Amb el dataset d'entrenament (_train_), entrena un arbre de decisió utilitzant el classificador `DecisionTreeClassifier` de la biblioteca `tree` de `sklearn`.\n",
        "2. Calcula el _accuracy_ (precisió) del model tant en les dades de _train_ com de _test_.\n",
        "3. Calcula la matriu de confusió utilitzant les dades de _test_.\n",
        "4. Representa gràficament la frontera de decisió amb les dades de _test_.\n",
        "5. Representa l‟arbre de decisió. Podeu utilitzar la comanda `plot.tree` de la biblioteca `tree` de `sklearn`.\n",
        "\n",
        "Aquests passos us permetran avaluar com l'arbre de decisió es comporta en el vostre conjunt de dades, tant en termes de classificació com en la seva representació visual.\"\n",
        "</div>"
      ]
    },
    {
      "cell_type": "markdown",
      "metadata": {
        "id": "vjkBwAI5YPNj"
      },
      "source": [
        "<div class=\"alert alert-block alert-danger\">\n",
        "<strong>Solución:</strong>\n",
        "</div>"
      ]
    },
    {
      "cell_type": "code",
      "execution_count": null,
      "metadata": {
        "id": "kqqvClsEfHw-"
      },
      "outputs": [],
      "source": []
    },
    {
      "cell_type": "markdown",
      "metadata": {
        "id": "PI_q3bCafHw-"
      },
      "source": [
        "<div class=\"alert alert-block alert-info\">\n",
        "<strong>Anàlisi:</strong>\n",
        "\n",
        "1. Avalua i comenta els resultats obtinguts amb l‟arbre de decisió. Considera tant el _accuracy_ del model en els conjunts de _train_ i _test_ com els resultats de la matriu de confusió.\n",
        "2. Reflexiona sobre com la frontera de decisió visualitzada al conjunt de _test_ s'alinea amb els resultats obtinguts. És coherent amb allò que esperaries d'un arbre de decisió?\n",
        "3. Observa la representació gràfica de l‟arbre. Analitza com les diferents ramificacions i decisions preses a l'arbre expliquen el comportament del model i el seu impacte a la classificació de les dades.\n",
        "\n",
        "Aquesta anàlisi us ajudarà a comprendre en profunditat el funcionament i l'eficàcia de l'arbre de decisió en el vostre conjunt de dades específic.\"\n",
        "\n",
        "</div>"
      ]
    },
    {
      "cell_type": "markdown",
      "metadata": {
        "id": "MABFtjLJfHw-",
        "tags": []
      },
      "source": [
        "<div class=\"alert alert-block alert-success\">\n",
        "<strong>Resposta:</strong>\n",
        "\n",
        "\n",
        "</div>"
      ]
    },
    {
      "cell_type": "markdown",
      "metadata": {
        "id": "GlU7Tg-1fHw-"
      },
      "source": [
        "#### Evitant el *overfitting*\n",
        "\n",
        "El procés de construcció d'arbres descrit tendeix a reduir ràpidament l'error d'entrenament, per la qual cosa generalment el model s'ajusta molt bé a les observacions utilitzades com a entrenament (conjunt de train). Com a conseqüència, els arbres de decisió tendeixen al *overfitting*.\n",
        "   \n",
        "Per evitar l'overfitting als arbres de decisió, és crucial que modifiquis certs hiperparàmetres del model. Aquí t'explico com fer-ho:\n",
        "\n",
        "1. Fes servir l'hiperparàmetre `max_depth`, que defineix la profunditat màxima de l'arbre. Hauràs d'explorar els valors entre 4 i 10 per trobar l'equilibri adequat entre la complexitat del model i la capacitat per generalitzar.\n",
        "2. Estableix l'hiperparàmetre min_samples_split, que és el nombre mínim d'observacions que ha de tenir una fulla de l'arbre abans de considerar una divisió. Experimenta amb valors com 2, 10, 20, 50 i 100 per assegurar-te que l'arbre no es torni gaire específic per a les observacions d'entrenament.\n",
        "\n",
        "Ajustant aquests hiperparàmetres, podràs controlar la tendència de l'arbre de decisió a sobreajustar-se al conjunt d'entrenament, millorant així la seva capacitat per fer prediccions efectives en noves dades."
      ]
    },
    {
      "cell_type": "markdown",
      "metadata": {
        "id": "o2KF6CI2fHw-"
      },
      "source": [
        "<div class=\"alert alert-block alert-info\">\n",
        "     <strong>Implementació:</strong>\n",
        "\n",
        "1. Calcula el valor òptim dels hiperparàmetres `max_depth` i `min_samples_split` utilitzant una cerca de reixeta amb validació creuada. Aquest procés us ajudarà a trobar els valors òptims que evitaran el sobreajustament.\n",
        "2. Per a cada combinació de valors, calcula'n la mitjana i la desviació estàndard.\n",
        "3. Fes un _heatmap_ per visualitzar la precisió segons els diferents valors dels hiperparàmetres.\n",
        "\n",
        "Utilitza el mòdul `GridSearchCV` de `sklearn` per calcular els millors hiperparàmetres amb el classificador `DecisionTreeClassifier` de `tree` de `sklearn`. Per a la visualització del _heatmap_, empra la llibreria `Seaborn`.\n",
        "\n",
        "Aquests passos us permetran identificar de manera efectiva i visual els valors de `max_depth` i `min_samples_split` que maximitzen la precisió del vostre arbre de decisió, minimitzant el risc de sobreajustament.\n",
        "</div>"
      ]
    },
    {
      "cell_type": "markdown",
      "metadata": {
        "id": "hJrrEaatYPNk"
      },
      "source": [
        "<div class=\"alert alert-block alert-danger\">\n",
        "<strong>Solución:</strong>\n",
        "</div>"
      ]
    },
    {
      "cell_type": "code",
      "execution_count": null,
      "metadata": {
        "id": "JAaYYYTbfHw-"
      },
      "outputs": [],
      "source": []
    },
    {
      "cell_type": "markdown",
      "metadata": {
        "id": "DT9ttV8GfHw-"
      },
      "source": [
        "<div class=\"alert alert-block alert-info\">\n",
        "<strong>Implementació:</strong>\n",
        "\n",
        "\n",
        "1. Entrena un arbre de decisió amb el dataset d'entrenament (_train_) fent servir la millor combinació de paràmetres que hagis trobat.\n",
        "2. Calcula el _accuracy_ (precisió) del model tant en les dades de _train_ com de _test_.\n",
        "3. Calcula la matriu de confusió utilitzant les dades de _test_.\n",
        "4. Representa gràficament la frontera de decisió amb les dades de _test_.\n",
        "5. Representa l‟arbre de decisió.\n",
        "\n",
        "Aquests passos us permetran avaluar com l'arbre de decisió, ajustat amb els hiperparàmetres òptims, es comporta en el vostre conjunt de dades, tant en termes de classificació com en la seva representació visual.\"\n",
        "    \n",
        "</div>"
      ]
    },
    {
      "cell_type": "markdown",
      "metadata": {
        "id": "uNZYedjsYPNk"
      },
      "source": [
        "<div class=\"alert alert-block alert-danger\">\n",
        "<strong>Solución:</strong>\n",
        "</div>"
      ]
    },
    {
      "cell_type": "code",
      "execution_count": null,
      "metadata": {
        "id": "R3ZJ7I-FfHw-"
      },
      "outputs": [],
      "source": []
    },
    {
      "cell_type": "markdown",
      "metadata": {
        "id": "-cQKFNpffHw-"
      },
      "source": [
        "<div class=\"alert alert-block alert-info\">\n",
        "<strong>Anàlisi:</strong>\n",
        "\n",
        "1. Avalua i comenta els resultats obtinguts en la cerca dels millors hiperparàmetres. Considereu com la combinació òptima de `max_depth` i `min_samples_split` ha impactat el rendiment de l'arbre de decisió.\n",
        "2. Examina les fronteres de decisió generades amb el conjunt de _test_. Reflexiona sobre si la forma daquestes fronteres és coherent amb el que esperaries dun arbre de decisió configurat amb aquests hiperparàmetres.\n",
        "3. Analitza les prediccions fetes sobre el conjunt de test. Observa la precisió i com es distribueixen en relació amb les fronteres de decisió. Aquestes prediccions són consistents amb l'estructura de l'arbre de decisió i les fronteres observades?\n",
        "\n",
        "Aquesta anàlisi us ajudarà a comprendre l'eficàcia de l'arbre de decisió amb els hiperparàmetres seleccionats i el seu impacte en la classificació de les dades.\"\n",
        "</div>"
      ]
    },
    {
      "cell_type": "markdown",
      "metadata": {
        "id": "y3vL6gWjfHw_",
        "tags": []
      },
      "source": [
        "<div class=\"alert alert-block alert-success\">\n",
        "<strong>Resposta:</strong>\n",
        "\n",
        "\n",
        "</div>"
      ]
    },
    {
      "cell_type": "markdown",
      "metadata": {
        "id": "1N8TJl-1fHw_"
      },
      "source": [
        "<a id='ex2'></a>\n",
        "# 2. Implementació del cas pràctic (5 punts)\n",
        "\n",
        "Com a expert en anàlisi de dades, sabem la importància que les empreses de targetes de crèdit puguin identificar i prevenir transaccions fraudulentes per protegir els seus clients. En aquest sentit, estudiarem un conjunt de dades que conté informació sobre transaccions realitzades amb targetes de crèdit el setembre del 2013 per titulars de targetes europeus.\n",
        "\n",
        "Aquest conjunt de dades presenta transaccions ocorregudes en dos dies, on s'han registrat 492 casos de frau d'un total de 284,807 transaccions. És important destacar que totes les variables dentrada són numèriques i van ser obtingudes a través duna transformació PCA. Lamentablement, per raons de confidencialitat, no es poden proporcionar les característiques originals ni més informació sobre les dades. Les variables V1 a V28 representen els components principals obtinguts amb PCA, mentre que “Time” i “Amount” són les úniques variables que no han estat transformades amb PCA. La variable \"Time\" indica els segons transcorreguts entre cada transacció i la primera transacció del conjunt de dades, mentre que \"Amount\" representa la suma de la transacció. La variable “Class” és la variable de resposta i pren el valor 1 en cas de frau i 0 en cas contrari.\n",
        "\n",
        "Font: https://www.kaggle.com/datasets/mlg-ulb/creditcardfraud\n",
        "\n",
        "L‟objectiu d‟aquesta secció és abordar l‟anàlisi d‟aquest conjunt de dades de diverses maneres per identificar i prevenir transaccions fraudulentes. Aquí tens alguns passos que podries seguir:\n",
        "\n",
        "1. **Anàlisi Exploratòria de Dades (EDA)**: Comença explorant el conjunt de dades per comprendre'n l'estructura i la distribució. Atès que les transaccions fraudulentes són molt menys freqüents que les transaccions normals, aquest és un exemple de conjunt de dades desbalancejat. Observa la distribució de les variables “Time” i “Amount” i com es relacionen amb la variable objectiu “Class”.\n",
        "\n",
        "2. **Preprocessament de Dades**: Com que les variables han estat transformades usant PCA, és probable que no requereixis de molta transformació addicional. Tot i això, considera normalitzar les variables \"Time\" i \"Amount\" perquè estiguin a la mateixa escala que les components principals.\n",
        "\n",
        "3. **Modelització**: Utilitza un perceptró multicapa com a eina de classificació. Atès que l'objectiu és identificar transaccions fraudulentes, és vital centrar-se en mètriques com ara la precisió, la sensibilitat (recall), el valor F1 i l'àrea sota la corba ROC (AUC-ROC).\n",
        "\n",
        "4. **Ajust d'Hiperparàmetres**: Utilitza la validació creuada per avaluar d'una manera més fiable el rendiment dels teus models. A més, ajusta els hiperparàmetres per millorar la precisió dels models.\n",
        "\n",
        "Aquest enfocament integral et permetrà no només construir un model efectiu per detectar fraus sinó també comprendre millor les característiques subjacents de les transaccions fraudulentes al conjunt de dades."
      ]
    },
    {
      "cell_type": "markdown",
      "metadata": {
        "id": "SAn2GmJcfHw_"
      },
      "source": [
        "## 2.0. Carga de datos\n",
        "\n",
        "Lo primero que debes hacer es cargar el conjunto de datos y visualizar las primeras filas para obtener una vista previa. Asegúrate de verificar lo siguiente:\n",
        "\n",
        "1. Confirma la cantidad total de filas y columnas en el DataFrame.\n",
        "2. Revisa el nombre de cada columna del DataFrame.\n",
        "3. Verifica el número de valores no nulos en cada columna.\n",
        "4. Identifica el tipo de datos de cada columna, que puede ser int, float, object, entre otros.\n",
        "5. Comprueba la cantidad de memoria utilizada por el DataFrame.\n",
        "\n",
        "Estos pasos te proporcionarán una comprensión inicial clara y detallada del conjunto de datos con el que estás trabajando.\""
      ]
    },
    {
      "cell_type": "code",
      "execution_count": 15,
      "metadata": {
        "id": "GKz8FE14fHw_"
      },
      "outputs": [],
      "source": [
        "import numpy as np\n",
        "import pandas as pd\n",
        "import pickle\n",
        "import seaborn as sns\n",
        "import matplotlib.pyplot as plt\n",
        "%matplotlib inline"
      ]
    },
    {
      "cell_type": "code",
      "execution_count": 16,
      "metadata": {
        "id": "jQBZhRidfHw_",
        "colab": {
          "base_uri": "https://localhost:8080/",
          "height": 235
        },
        "outputId": "837dd35e-5afe-4b53-a8e5-8fbc8604010e"
      },
      "outputs": [
        {
          "output_type": "execute_result",
          "data": {
            "text/plain": [
              "   Time        V1        V2        V3        V4        V5        V6        V7  \\\n",
              "0   0.0 -1.359807 -0.072781  2.536347  1.378155 -0.338321  0.462388  0.239599   \n",
              "1   0.0  1.191857  0.266151  0.166480  0.448154  0.060018 -0.082361 -0.078803   \n",
              "2   1.0 -1.358354 -1.340163  1.773209  0.379780 -0.503198  1.800499  0.791461   \n",
              "3   1.0 -0.966272 -0.185226  1.792993 -0.863291 -0.010309  1.247203  0.237609   \n",
              "4   2.0 -1.158233  0.877737  1.548718  0.403034 -0.407193  0.095921  0.592941   \n",
              "\n",
              "         V8        V9  ...       V21       V22       V23       V24       V25  \\\n",
              "0  0.098698  0.363787  ... -0.018307  0.277838 -0.110474  0.066928  0.128539   \n",
              "1  0.085102 -0.255425  ... -0.225775 -0.638672  0.101288 -0.339846  0.167170   \n",
              "2  0.247676 -1.514654  ...  0.247998  0.771679  0.909412 -0.689281 -0.327642   \n",
              "3  0.377436 -1.387024  ... -0.108300  0.005274 -0.190321 -1.175575  0.647376   \n",
              "4 -0.270533  0.817739  ... -0.009431  0.798278 -0.137458  0.141267 -0.206010   \n",
              "\n",
              "        V26       V27       V28  Amount  Class  \n",
              "0 -0.189115  0.133558 -0.021053  149.62      0  \n",
              "1  0.125895 -0.008983  0.014724    2.69      0  \n",
              "2 -0.139097 -0.055353 -0.059752  378.66      0  \n",
              "3 -0.221929  0.062723  0.061458  123.50      0  \n",
              "4  0.502292  0.219422  0.215153   69.99      0  \n",
              "\n",
              "[5 rows x 31 columns]"
            ],
            "text/html": [
              "\n",
              "  <div id=\"df-12b71377-01f5-4a4a-8b51-be977a726fcf\" class=\"colab-df-container\">\n",
              "    <div>\n",
              "<style scoped>\n",
              "    .dataframe tbody tr th:only-of-type {\n",
              "        vertical-align: middle;\n",
              "    }\n",
              "\n",
              "    .dataframe tbody tr th {\n",
              "        vertical-align: top;\n",
              "    }\n",
              "\n",
              "    .dataframe thead th {\n",
              "        text-align: right;\n",
              "    }\n",
              "</style>\n",
              "<table border=\"1\" class=\"dataframe\">\n",
              "  <thead>\n",
              "    <tr style=\"text-align: right;\">\n",
              "      <th></th>\n",
              "      <th>Time</th>\n",
              "      <th>V1</th>\n",
              "      <th>V2</th>\n",
              "      <th>V3</th>\n",
              "      <th>V4</th>\n",
              "      <th>V5</th>\n",
              "      <th>V6</th>\n",
              "      <th>V7</th>\n",
              "      <th>V8</th>\n",
              "      <th>V9</th>\n",
              "      <th>...</th>\n",
              "      <th>V21</th>\n",
              "      <th>V22</th>\n",
              "      <th>V23</th>\n",
              "      <th>V24</th>\n",
              "      <th>V25</th>\n",
              "      <th>V26</th>\n",
              "      <th>V27</th>\n",
              "      <th>V28</th>\n",
              "      <th>Amount</th>\n",
              "      <th>Class</th>\n",
              "    </tr>\n",
              "  </thead>\n",
              "  <tbody>\n",
              "    <tr>\n",
              "      <th>0</th>\n",
              "      <td>0.0</td>\n",
              "      <td>-1.359807</td>\n",
              "      <td>-0.072781</td>\n",
              "      <td>2.536347</td>\n",
              "      <td>1.378155</td>\n",
              "      <td>-0.338321</td>\n",
              "      <td>0.462388</td>\n",
              "      <td>0.239599</td>\n",
              "      <td>0.098698</td>\n",
              "      <td>0.363787</td>\n",
              "      <td>...</td>\n",
              "      <td>-0.018307</td>\n",
              "      <td>0.277838</td>\n",
              "      <td>-0.110474</td>\n",
              "      <td>0.066928</td>\n",
              "      <td>0.128539</td>\n",
              "      <td>-0.189115</td>\n",
              "      <td>0.133558</td>\n",
              "      <td>-0.021053</td>\n",
              "      <td>149.62</td>\n",
              "      <td>0</td>\n",
              "    </tr>\n",
              "    <tr>\n",
              "      <th>1</th>\n",
              "      <td>0.0</td>\n",
              "      <td>1.191857</td>\n",
              "      <td>0.266151</td>\n",
              "      <td>0.166480</td>\n",
              "      <td>0.448154</td>\n",
              "      <td>0.060018</td>\n",
              "      <td>-0.082361</td>\n",
              "      <td>-0.078803</td>\n",
              "      <td>0.085102</td>\n",
              "      <td>-0.255425</td>\n",
              "      <td>...</td>\n",
              "      <td>-0.225775</td>\n",
              "      <td>-0.638672</td>\n",
              "      <td>0.101288</td>\n",
              "      <td>-0.339846</td>\n",
              "      <td>0.167170</td>\n",
              "      <td>0.125895</td>\n",
              "      <td>-0.008983</td>\n",
              "      <td>0.014724</td>\n",
              "      <td>2.69</td>\n",
              "      <td>0</td>\n",
              "    </tr>\n",
              "    <tr>\n",
              "      <th>2</th>\n",
              "      <td>1.0</td>\n",
              "      <td>-1.358354</td>\n",
              "      <td>-1.340163</td>\n",
              "      <td>1.773209</td>\n",
              "      <td>0.379780</td>\n",
              "      <td>-0.503198</td>\n",
              "      <td>1.800499</td>\n",
              "      <td>0.791461</td>\n",
              "      <td>0.247676</td>\n",
              "      <td>-1.514654</td>\n",
              "      <td>...</td>\n",
              "      <td>0.247998</td>\n",
              "      <td>0.771679</td>\n",
              "      <td>0.909412</td>\n",
              "      <td>-0.689281</td>\n",
              "      <td>-0.327642</td>\n",
              "      <td>-0.139097</td>\n",
              "      <td>-0.055353</td>\n",
              "      <td>-0.059752</td>\n",
              "      <td>378.66</td>\n",
              "      <td>0</td>\n",
              "    </tr>\n",
              "    <tr>\n",
              "      <th>3</th>\n",
              "      <td>1.0</td>\n",
              "      <td>-0.966272</td>\n",
              "      <td>-0.185226</td>\n",
              "      <td>1.792993</td>\n",
              "      <td>-0.863291</td>\n",
              "      <td>-0.010309</td>\n",
              "      <td>1.247203</td>\n",
              "      <td>0.237609</td>\n",
              "      <td>0.377436</td>\n",
              "      <td>-1.387024</td>\n",
              "      <td>...</td>\n",
              "      <td>-0.108300</td>\n",
              "      <td>0.005274</td>\n",
              "      <td>-0.190321</td>\n",
              "      <td>-1.175575</td>\n",
              "      <td>0.647376</td>\n",
              "      <td>-0.221929</td>\n",
              "      <td>0.062723</td>\n",
              "      <td>0.061458</td>\n",
              "      <td>123.50</td>\n",
              "      <td>0</td>\n",
              "    </tr>\n",
              "    <tr>\n",
              "      <th>4</th>\n",
              "      <td>2.0</td>\n",
              "      <td>-1.158233</td>\n",
              "      <td>0.877737</td>\n",
              "      <td>1.548718</td>\n",
              "      <td>0.403034</td>\n",
              "      <td>-0.407193</td>\n",
              "      <td>0.095921</td>\n",
              "      <td>0.592941</td>\n",
              "      <td>-0.270533</td>\n",
              "      <td>0.817739</td>\n",
              "      <td>...</td>\n",
              "      <td>-0.009431</td>\n",
              "      <td>0.798278</td>\n",
              "      <td>-0.137458</td>\n",
              "      <td>0.141267</td>\n",
              "      <td>-0.206010</td>\n",
              "      <td>0.502292</td>\n",
              "      <td>0.219422</td>\n",
              "      <td>0.215153</td>\n",
              "      <td>69.99</td>\n",
              "      <td>0</td>\n",
              "    </tr>\n",
              "  </tbody>\n",
              "</table>\n",
              "<p>5 rows × 31 columns</p>\n",
              "</div>\n",
              "    <div class=\"colab-df-buttons\">\n",
              "\n",
              "  <div class=\"colab-df-container\">\n",
              "    <button class=\"colab-df-convert\" onclick=\"convertToInteractive('df-12b71377-01f5-4a4a-8b51-be977a726fcf')\"\n",
              "            title=\"Convert this dataframe to an interactive table.\"\n",
              "            style=\"display:none;\">\n",
              "\n",
              "  <svg xmlns=\"http://www.w3.org/2000/svg\" height=\"24px\" viewBox=\"0 -960 960 960\">\n",
              "    <path d=\"M120-120v-720h720v720H120Zm60-500h600v-160H180v160Zm220 220h160v-160H400v160Zm0 220h160v-160H400v160ZM180-400h160v-160H180v160Zm440 0h160v-160H620v160ZM180-180h160v-160H180v160Zm440 0h160v-160H620v160Z\"/>\n",
              "  </svg>\n",
              "    </button>\n",
              "\n",
              "  <style>\n",
              "    .colab-df-container {\n",
              "      display:flex;\n",
              "      gap: 12px;\n",
              "    }\n",
              "\n",
              "    .colab-df-convert {\n",
              "      background-color: #E8F0FE;\n",
              "      border: none;\n",
              "      border-radius: 50%;\n",
              "      cursor: pointer;\n",
              "      display: none;\n",
              "      fill: #1967D2;\n",
              "      height: 32px;\n",
              "      padding: 0 0 0 0;\n",
              "      width: 32px;\n",
              "    }\n",
              "\n",
              "    .colab-df-convert:hover {\n",
              "      background-color: #E2EBFA;\n",
              "      box-shadow: 0px 1px 2px rgba(60, 64, 67, 0.3), 0px 1px 3px 1px rgba(60, 64, 67, 0.15);\n",
              "      fill: #174EA6;\n",
              "    }\n",
              "\n",
              "    .colab-df-buttons div {\n",
              "      margin-bottom: 4px;\n",
              "    }\n",
              "\n",
              "    [theme=dark] .colab-df-convert {\n",
              "      background-color: #3B4455;\n",
              "      fill: #D2E3FC;\n",
              "    }\n",
              "\n",
              "    [theme=dark] .colab-df-convert:hover {\n",
              "      background-color: #434B5C;\n",
              "      box-shadow: 0px 1px 3px 1px rgba(0, 0, 0, 0.15);\n",
              "      filter: drop-shadow(0px 1px 2px rgba(0, 0, 0, 0.3));\n",
              "      fill: #FFFFFF;\n",
              "    }\n",
              "  </style>\n",
              "\n",
              "    <script>\n",
              "      const buttonEl =\n",
              "        document.querySelector('#df-12b71377-01f5-4a4a-8b51-be977a726fcf button.colab-df-convert');\n",
              "      buttonEl.style.display =\n",
              "        google.colab.kernel.accessAllowed ? 'block' : 'none';\n",
              "\n",
              "      async function convertToInteractive(key) {\n",
              "        const element = document.querySelector('#df-12b71377-01f5-4a4a-8b51-be977a726fcf');\n",
              "        const dataTable =\n",
              "          await google.colab.kernel.invokeFunction('convertToInteractive',\n",
              "                                                    [key], {});\n",
              "        if (!dataTable) return;\n",
              "\n",
              "        const docLinkHtml = 'Like what you see? Visit the ' +\n",
              "          '<a target=\"_blank\" href=https://colab.research.google.com/notebooks/data_table.ipynb>data table notebook</a>'\n",
              "          + ' to learn more about interactive tables.';\n",
              "        element.innerHTML = '';\n",
              "        dataTable['output_type'] = 'display_data';\n",
              "        await google.colab.output.renderOutput(dataTable, element);\n",
              "        const docLink = document.createElement('div');\n",
              "        docLink.innerHTML = docLinkHtml;\n",
              "        element.appendChild(docLink);\n",
              "      }\n",
              "    </script>\n",
              "  </div>\n",
              "\n",
              "\n",
              "<div id=\"df-3893c54b-ac71-442a-ad80-26f589ae3b31\">\n",
              "  <button class=\"colab-df-quickchart\" onclick=\"quickchart('df-3893c54b-ac71-442a-ad80-26f589ae3b31')\"\n",
              "            title=\"Suggest charts\"\n",
              "            style=\"display:none;\">\n",
              "\n",
              "<svg xmlns=\"http://www.w3.org/2000/svg\" height=\"24px\"viewBox=\"0 0 24 24\"\n",
              "     width=\"24px\">\n",
              "    <g>\n",
              "        <path d=\"M19 3H5c-1.1 0-2 .9-2 2v14c0 1.1.9 2 2 2h14c1.1 0 2-.9 2-2V5c0-1.1-.9-2-2-2zM9 17H7v-7h2v7zm4 0h-2V7h2v10zm4 0h-2v-4h2v4z\"/>\n",
              "    </g>\n",
              "</svg>\n",
              "  </button>\n",
              "\n",
              "<style>\n",
              "  .colab-df-quickchart {\n",
              "      --bg-color: #E8F0FE;\n",
              "      --fill-color: #1967D2;\n",
              "      --hover-bg-color: #E2EBFA;\n",
              "      --hover-fill-color: #174EA6;\n",
              "      --disabled-fill-color: #AAA;\n",
              "      --disabled-bg-color: #DDD;\n",
              "  }\n",
              "\n",
              "  [theme=dark] .colab-df-quickchart {\n",
              "      --bg-color: #3B4455;\n",
              "      --fill-color: #D2E3FC;\n",
              "      --hover-bg-color: #434B5C;\n",
              "      --hover-fill-color: #FFFFFF;\n",
              "      --disabled-bg-color: #3B4455;\n",
              "      --disabled-fill-color: #666;\n",
              "  }\n",
              "\n",
              "  .colab-df-quickchart {\n",
              "    background-color: var(--bg-color);\n",
              "    border: none;\n",
              "    border-radius: 50%;\n",
              "    cursor: pointer;\n",
              "    display: none;\n",
              "    fill: var(--fill-color);\n",
              "    height: 32px;\n",
              "    padding: 0;\n",
              "    width: 32px;\n",
              "  }\n",
              "\n",
              "  .colab-df-quickchart:hover {\n",
              "    background-color: var(--hover-bg-color);\n",
              "    box-shadow: 0 1px 2px rgba(60, 64, 67, 0.3), 0 1px 3px 1px rgba(60, 64, 67, 0.15);\n",
              "    fill: var(--button-hover-fill-color);\n",
              "  }\n",
              "\n",
              "  .colab-df-quickchart-complete:disabled,\n",
              "  .colab-df-quickchart-complete:disabled:hover {\n",
              "    background-color: var(--disabled-bg-color);\n",
              "    fill: var(--disabled-fill-color);\n",
              "    box-shadow: none;\n",
              "  }\n",
              "\n",
              "  .colab-df-spinner {\n",
              "    border: 2px solid var(--fill-color);\n",
              "    border-color: transparent;\n",
              "    border-bottom-color: var(--fill-color);\n",
              "    animation:\n",
              "      spin 1s steps(1) infinite;\n",
              "  }\n",
              "\n",
              "  @keyframes spin {\n",
              "    0% {\n",
              "      border-color: transparent;\n",
              "      border-bottom-color: var(--fill-color);\n",
              "      border-left-color: var(--fill-color);\n",
              "    }\n",
              "    20% {\n",
              "      border-color: transparent;\n",
              "      border-left-color: var(--fill-color);\n",
              "      border-top-color: var(--fill-color);\n",
              "    }\n",
              "    30% {\n",
              "      border-color: transparent;\n",
              "      border-left-color: var(--fill-color);\n",
              "      border-top-color: var(--fill-color);\n",
              "      border-right-color: var(--fill-color);\n",
              "    }\n",
              "    40% {\n",
              "      border-color: transparent;\n",
              "      border-right-color: var(--fill-color);\n",
              "      border-top-color: var(--fill-color);\n",
              "    }\n",
              "    60% {\n",
              "      border-color: transparent;\n",
              "      border-right-color: var(--fill-color);\n",
              "    }\n",
              "    80% {\n",
              "      border-color: transparent;\n",
              "      border-right-color: var(--fill-color);\n",
              "      border-bottom-color: var(--fill-color);\n",
              "    }\n",
              "    90% {\n",
              "      border-color: transparent;\n",
              "      border-bottom-color: var(--fill-color);\n",
              "    }\n",
              "  }\n",
              "</style>\n",
              "\n",
              "  <script>\n",
              "    async function quickchart(key) {\n",
              "      const quickchartButtonEl =\n",
              "        document.querySelector('#' + key + ' button');\n",
              "      quickchartButtonEl.disabled = true;  // To prevent multiple clicks.\n",
              "      quickchartButtonEl.classList.add('colab-df-spinner');\n",
              "      try {\n",
              "        const charts = await google.colab.kernel.invokeFunction(\n",
              "            'suggestCharts', [key], {});\n",
              "      } catch (error) {\n",
              "        console.error('Error during call to suggestCharts:', error);\n",
              "      }\n",
              "      quickchartButtonEl.classList.remove('colab-df-spinner');\n",
              "      quickchartButtonEl.classList.add('colab-df-quickchart-complete');\n",
              "    }\n",
              "    (() => {\n",
              "      let quickchartButtonEl =\n",
              "        document.querySelector('#df-3893c54b-ac71-442a-ad80-26f589ae3b31 button');\n",
              "      quickchartButtonEl.style.display =\n",
              "        google.colab.kernel.accessAllowed ? 'block' : 'none';\n",
              "    })();\n",
              "  </script>\n",
              "</div>\n",
              "    </div>\n",
              "  </div>\n"
            ]
          },
          "metadata": {},
          "execution_count": 16
        }
      ],
      "source": [
        "data = pd.read_csv('https://storage.googleapis.com/download.tensorflow.org/data/creditcard.csv')\n",
        "data.head()"
      ]
    },
    {
      "cell_type": "code",
      "execution_count": 17,
      "metadata": {
        "id": "xx1vBcy7fHw_",
        "colab": {
          "base_uri": "https://localhost:8080/"
        },
        "outputId": "e6818e63-0842-42fc-9000-018b798d201a"
      },
      "outputs": [
        {
          "output_type": "stream",
          "name": "stdout",
          "text": [
            "<class 'pandas.core.frame.DataFrame'>\n",
            "RangeIndex: 284807 entries, 0 to 284806\n",
            "Data columns (total 31 columns):\n",
            " #   Column  Non-Null Count   Dtype  \n",
            "---  ------  --------------   -----  \n",
            " 0   Time    284807 non-null  float64\n",
            " 1   V1      284807 non-null  float64\n",
            " 2   V2      284807 non-null  float64\n",
            " 3   V3      284807 non-null  float64\n",
            " 4   V4      284807 non-null  float64\n",
            " 5   V5      284807 non-null  float64\n",
            " 6   V6      284807 non-null  float64\n",
            " 7   V7      284807 non-null  float64\n",
            " 8   V8      284807 non-null  float64\n",
            " 9   V9      284807 non-null  float64\n",
            " 10  V10     284807 non-null  float64\n",
            " 11  V11     284807 non-null  float64\n",
            " 12  V12     284807 non-null  float64\n",
            " 13  V13     284807 non-null  float64\n",
            " 14  V14     284807 non-null  float64\n",
            " 15  V15     284807 non-null  float64\n",
            " 16  V16     284807 non-null  float64\n",
            " 17  V17     284807 non-null  float64\n",
            " 18  V18     284807 non-null  float64\n",
            " 19  V19     284807 non-null  float64\n",
            " 20  V20     284807 non-null  float64\n",
            " 21  V21     284807 non-null  float64\n",
            " 22  V22     284807 non-null  float64\n",
            " 23  V23     284807 non-null  float64\n",
            " 24  V24     284807 non-null  float64\n",
            " 25  V25     284807 non-null  float64\n",
            " 26  V26     284807 non-null  float64\n",
            " 27  V27     284807 non-null  float64\n",
            " 28  V28     284807 non-null  float64\n",
            " 29  Amount  284807 non-null  float64\n",
            " 30  Class   284807 non-null  int64  \n",
            "dtypes: float64(30), int64(1)\n",
            "memory usage: 67.4 MB\n"
          ]
        }
      ],
      "source": [
        "data.info()"
      ]
    },
    {
      "cell_type": "markdown",
      "metadata": {
        "id": "nwJqa9WIfHw_"
      },
      "source": [
        "### 2.1. Anàlisi Exploratori de Dades (EDA)\n",
        "\n",
        "L'Anàlisi Exploratòria de Dades (EDA, per les sigles en anglès) en ciència de dades és un enfocament inicial per comprendre i resumir el contingut d'un conjunt de dades. Aquest procés implica diverses tècniques i passos:\n",
        "\n",
        "1. **Inspecció de Dades**: Es comença per revisar les dades brutes per identificar-ne l'estructura, la mida i el tipus (com numèric, categòric). Això inclou detectar valors mancants o inusuals.\n",
        "\n",
        "2. **Resum Estadístic**: Es calculen estadístiques descriptives com la mitjana, mediana, rang, variància i desviació estàndard per obtenir una idea general de les tendències i patrons en les dades.\n",
        "\n",
        "3. **Visualització de Dades**: S'utilitzen gràfics i diagrames (com histogrames, gràfics de caixa, diagrames de dispersió) per visualitzar distribucions, relacions entre variables i possibles anomalies. Això ajuda a comprendre millor les dades i identificar patrons o irregularitats.\n",
        "\n",
        "4. **Anàlisi de Relacions i Correlacions**: S'exploren les relacions entre diferents variables per entendre com s'influencien entre si. Això pot implicar lús de matrius de correlació i gràfics de dispersió.\n",
        "\n",
        "5. **Identificació de Patrons i Anomalies**: Es busquen patrons consistents o anomalies (com a valors atípics) que puguin suggerir tendències o problemes en les dades.\n",
        "\n",
        "L'EDA és una fase crítica en qualsevol projecte de ciència de dades, ja que proporciona una comprensió profunda i una base sòlida per a posteriors anàlisis i modelatge."
      ]
    },
    {
      "cell_type": "markdown",
      "metadata": {
        "id": "pIX-1GizfHw_",
        "tags": []
      },
      "source": [
        "<div class=\"alert alert-block alert-info\">\n",
        "<strong>Implementació:</strong>\n",
        "\n",
        "1. Calcula les freqüències de la variable objectiu (`Class`) al teu conjunt de dades. Aquesta variable indica si una transacció és fraudulenta o no.\n",
        "2. Crea un gràfic de barres per visualitzar aquestes freqüències. Això us ajudarà a entendre la proporció de transaccions fraudulentes en comparació amb les legítimes.\n",
        "\n",
        "A continuació, analitza la distribució de les variables descriptores:\n",
        "\n",
        "1. Representa gràficament l'histograma de les 30 variables, separant les observacions segons la classe a què pertanyen (frau o no frau).\n",
        "2. Organitza tots els histogrames en un format de 10 files i 3 columnes. Això facilitarà la comparació visual de les distribucions per a cada classe a cada variable.\n",
        "\n",
        "Aquests passos us permetran obtenir una visió més clara de l'estructura del vostre conjunt de dades i com les diferents variables poden influir en la identificació de transaccions fraudulentes.\"\n",
        "     </div>"
      ]
    },
    {
      "cell_type": "markdown",
      "metadata": {
        "id": "lNLfV-l8YPNm"
      },
      "source": [
        "<div class=\"alert alert-block alert-danger\">\n",
        "<strong>Solución:</strong>\n",
        "</div>"
      ]
    },
    {
      "cell_type": "code",
      "execution_count": null,
      "metadata": {
        "id": "mBJU0PIHfHw_"
      },
      "outputs": [],
      "source": []
    },
    {
      "cell_type": "markdown",
      "metadata": {
        "id": "7rDxe75IfHw_"
      },
      "source": [
        "<div class=\"alert alert-block alert-info\">\n",
        "<strong>Anàlisi:</strong>\n",
        "\n",
        "1. Avalua la relació de les freqüències de la variable `Class`. Reflexiona sobre com es distribueixen les transaccions entre fraudulentes i no fraudulentes. És la distribució significativament desigual? Què implica això per a l'anàlisi i la modelització de les dades?\n",
        "2. Analitza la informació proporcionada pels histogrames de les variables descriptores. Observa si hi ha diferències notables a les distribucions d'aquestes variables entre les classes. Pregunta't: Hi ha variables que mostrin patrons diferents per a les transaccions fraudulentes en comparació de les legítimes?\n",
        "3. Considereu si hi ha altres formes de visualització que podrien ser útils per entendre millor les dades. Per exemple, serien útils els diagrames de caixa (boxplots) per visualitzar la distribució de les variables a les dues classes? Podria un mapa de calor de la matriu de correlació entre variables ajudar-te a entendre les relacions entre elles?\n",
        "\n",
        "Aquesta anàlisi us ajudarà a obtenir una comprensió més profunda de la naturalesa de les vostres dades ia identificar possibles característiques que podrien ser importants per detectar transaccions fraudulentes.\"\n",
        "</div>"
      ]
    },
    {
      "cell_type": "markdown",
      "metadata": {
        "id": "oHW_jgcbfHw_",
        "tags": []
      },
      "source": [
        "<div class=\"alert alert-block alert-success\">\n",
        "<strong>Resposta:</strong>\n",
        "\n",
        "\n",
        "</div>"
      ]
    },
    {
      "cell_type": "markdown",
      "metadata": {
        "id": "Oa3HbpukfHw_"
      },
      "source": [
        "### 2.2. Preprocessament de Dades\n",
        "\n",
        "El preprocessament de dades en ciència de dades és un pas crucial que involucra la preparació i transformació de dades brutes en un format adequat per a la seva posterior anàlisi i modelatge. Aquest procés inclou diverses tasques essencials:\n",
        "\n",
        "1. **Neteja de Dades**: S'eliminen o corregeixen dades errònies, incomplets, inexactes o irrellevants. Això pot incloure tractar amb valors faltants, corregir errors dentrada i manejar outliers.\n",
        "\n",
        "2. **Normalització i Escalat**: Les dades es transformen perquè estiguin en una escala comuna, sense distorsionar diferències en els rangs de valors ni perdre informació. Per exemple, escalat min-max o estandardització.\n",
        "\n",
        "3. **Codificació de Variables Categòriques**: Les variables categòriques (com a gènere o país) es converteixen en formats numèrics perquè puguin ser processades per algorismes d'aprenentatge automàtic, utilitzant tècniques com a codificació one-hot o codificació d'etiquetes.\n",
        "\n",
        "4. **Divisió de Dades**: Les dades es divideixen en conjunts d'entrenament, validació i prova, permetent entrenar models, afinar hiperparàmetres i avaluar el rendiment del model de manera efectiva.\n",
        "\n",
        "5. **Manejament de Dades Desbalancejades**: En casos de conjunts de dades desbalancejades, s'apliquen tècniques com a sobremostreig o submostreig per assegurar que el model no estigui esbiaixat cap a la classe més freqüent.\n",
        "\n",
        "6. **Enginyeria de Característiques**: Es creen noves variables (característiques) a partir de les dades existents per millorar la capacitat del model per aprendre patrons i fer prediccions.\n",
        "\n",
        "El preprocessament és essencial per millorar la qualitat de les dades i fer-les més adequades i efectives per anàlisi i modelatge en projectes de ciència de dades."
      ]
    },
    {
      "cell_type": "markdown",
      "metadata": {
        "id": "0P0dwjGVfHw_"
      },
      "source": [
        "<div class=\"alert alert-block alert-info\">\n",
        "<strong>Implementació:</strong>\n",
        "\n",
        "1. Atès que les columnes `Time` i `Amount` presenten problemes per al seu ús directe a l'anàlisi, primer elimina la columna `Time` del conjunt de dades. No és clar què significa aquesta columna, per la qual cosa la seva eliminació simplificarà la teva anàlisi.\n",
        "2. A continuació, transforma la columna Amount per reduir-ne el rang. Abans de prendre el logaritme d'Amount, suma 0.001 (un cèntim de dòlar) a cada valor en aquesta columna per evitar la indeterminació quan el valor és 0.\n",
        "3. Després de fer aquesta suma, calcula el logaritme d'Amount transformat.\n",
        "4. Finalment, reemplaça la columna original `Amount` al teu DataFrame per aquesta nova columna de `Log Amount`.\n",
        "\n",
        "Aquests ajustaments us ajudaran a normalitzar l'escala de les dades ia millorar l'eficàcia dels vostres models d'anàlisi.\n",
        "\n",
        "</div>"
      ]
    },
    {
      "cell_type": "markdown",
      "metadata": {
        "id": "DgZk6RS0YPNn"
      },
      "source": [
        "<div class=\"alert alert-block alert-danger\">\n",
        "<strong>Solución:</strong>\n",
        "</div>"
      ]
    },
    {
      "cell_type": "code",
      "execution_count": null,
      "metadata": {
        "id": "98CpdQ5vfHw_"
      },
      "outputs": [],
      "source": []
    },
    {
      "cell_type": "markdown",
      "metadata": {
        "id": "Iu0SHBWbfHxA"
      },
      "source": [
        "<div class=\"alert alert-block alert-info\">\n",
        "<strong>Implementació:</strong>\n",
        "\n",
        "Aquí tens el text reescrit en segona persona del singular i en imperatiu:\n",
        "\n",
        "Per a la implementació, segueix aquests passos:\n",
        "\n",
        "1. Primer, separa els descriptors de la variable resposta. Assigna els descriptors al conjunt `X` i la variable resposta al conjunt `y`.\n",
        "2. Dividiu el _dataset_ en dos subconjunts: un per a entrenament (_train_) i un altre per a proves (_test_). Assigna el 80% de les dades al conjunt d'entrenament (`X_train`, `y_train`) i el 20% al conjunt de proves (`X_test`, `y_test`). Utilitza la funció `train_test_split` de la biblioteca `model_selection` de `sklearn`. Assegureu-vos d'utilitzar `random_state = 24` i feu una divisió estratificada per mantenir la mateixa proporció de classes en tots dos conjunts.\n",
        "3. És important que les matrius de les classes `y_train` i `y_test` estiguin codificades. Per a això, utilitza la funció `to_categorical` de la llibreria `TensorFlow` de `Keras`. Això convertirà les etiquetes de classe en matrius d'etiquetes de classe codificades a one-hot.\n",
        "\n",
        "Recordeu, la codificació one-hot converteix les etiquetes categòriques en vectors binaris. En aquests vectors, el valor d'1 s'assigna a la posició corresponent a la classe i el valor de 0 a totes les altres posicions. Això facilita que els models daprenentatge automàtic processin i entenguin les etiquetes categòriques.\n",
        "</div>"
      ]
    },
    {
      "cell_type": "markdown",
      "metadata": {
        "id": "MkfNB_VtYPNn"
      },
      "source": [
        "<div class=\"alert alert-block alert-danger\">\n",
        "<strong>Solución:</strong>\n",
        "</div>"
      ]
    },
    {
      "cell_type": "code",
      "execution_count": null,
      "metadata": {
        "id": "Lj__HV48fHxA"
      },
      "outputs": [],
      "source": []
    },
    {
      "cell_type": "markdown",
      "metadata": {
        "id": "fKCW1Rh1fHxA"
      },
      "source": [
        "<div class=\"alert alert-block alert-info\">\n",
        "<strong>Implementació:</strong>\n",
        "\n",
        "1. Normalitza els descriptors utilitzant el `StandardScaler` de `sklearn`. Això estandarditzarà les característiques restant la mitjana i dividint per la desviació estàndard.\n",
        "2. Mostra les dimensions del conjunt de descriptors originals, del conjunt d'entrenament i del conjunt de prova. Això us permetrà veure com s'han dividit les dades.\n",
        "\n",
        "<strong>Nota:</strong> Ajusta l'StandardScaler únicament amb els descriptors d'entrenament per evitar la fuita d'informació o 'data leakage'. La fuita d'informació passa quan s'utilitza informació del conjunt de prova o validació en el procés d'ajustament del model. És a dir, si ajustes el model d'escalat amb tot el conjunt de dades, estaries utilitzant informació del conjunt de prova o validació a l'ajust, cosa que podria fer la impressió que el model és més precís del que realment és. Per tant, assegureu-vos d'ajustar l'StandardScaler només amb les dades d'entrenament i després aplicar-lo als conjunts d'entrenament i prova.\"\n",
        "</div>"
      ]
    },
    {
      "cell_type": "markdown",
      "metadata": {
        "id": "tdmJNE7CYPNo"
      },
      "source": [
        "<div class=\"alert alert-block alert-danger\">\n",
        "<strong>Solución:</strong>\n",
        "</div>"
      ]
    },
    {
      "cell_type": "code",
      "execution_count": null,
      "metadata": {
        "id": "vrgdxoZZfHxA"
      },
      "outputs": [],
      "source": []
    },
    {
      "cell_type": "markdown",
      "metadata": {
        "id": "Cpg-RIGpfHxA"
      },
      "source": [
        "## 2.3. Modelització\n",
        "\n",
        "El MLP (Perceptró Multicapa) és, sens dubte, una eina poderosa en el camp de l'aprenentatge automàtic i la intel·ligència artificial. Podeu manejar tasques de classificació i regressió, cosa que ho fa versàtil per a una varietat de problemes. La seva capacitat per modelar relacions no lineals complexes el converteix en una elecció popular quan les dades no segueixen patrons lineals simples.\n",
        "\n",
        "Aquí hi ha alguns punts clau sobre el MLP:\n",
        "\n",
        "- **Capes i Neurones**: L'MLP consta de múltiples capes de neurones, que inclouen una capa d'entrada, una o més capes ocultes i una capa de sortida. Cada neurona en una capa està connectada a totes les neurones a la capa següent.\n",
        "\n",
        "- **Funcions d'Activació**: Per introduir no linealitat al model, s'utilitzen funcions d'activació a les neurones, com la funció sigmoide, ReLU (Rectified Linear Unit) o tangent hiperbòlica. Aquestes funcions permeten al MLP capturar patrons complexos a les dades.\n",
        "\n",
        "- **Aprenentatge Supervisat**: L'entrenament del MLP implica ajustar els pesos de les connexions entre neurones per minimitzar la diferència entre les sortides produïdes per la xarxa i les sortides desitjades. Això es fa utilitzant algoritmes daprenentatge supervisat, com el descens del gradient.\n",
        "\n",
        "- **Ajust d'hiperparàmetres**: Igual que altres models d'aprenentatge automàtic, el MLP té hiperparàmetres importants, com ara el nombre de capes ocultes, el nombre de neurones a cada capa, la funció d'activació i la taxa d'aprenentatge. Sovint cal ajustar aquests hiperparàmetres per obtenir un bon rendiment en una tasca específica.\n",
        "\n",
        "- **Generalització**: Un dels desafiaments a l'entrenament de MLP és evitar el sobreajustament (overfitting), on el model s'adapta massa a les dades d'entrenament i no generalitza bé a dades noves. La regularització i la validació creuada són tècniques comunes per abordar aquest problema.\n",
        "\n",
        "En aquest context de detecció de frau en transaccions de targetes de crèdit, el MLP pot ser una excel·lent opció per modelar patrons complexos que indiquin transaccions fraudulentes. Tot i això, és important ajustar i avaluar acuradament el model per garantir que funcioni de manera efectiva en aquesta tasca crítica de seguretat.\n",
        "\n",
        "Crear i entrenar un MLP amb 4 capes ocultes, cadascuna amb 20 neurones i funció d'activació ReLU és una elecció excel·lent. La funció d'activació ReLU (Rectified Linear Unit) és utilitzada comunament en capes ocultes de xarxes neuronals a causa de la seva capacitat per introduir no linealitat en el model, cosa que li permet aprendre patrons complexos en les dades.\n",
        "\n",
        "D'altra banda, l'enfocament d'apilar capes seqüencialment utilitzant la classe Sequential de Keras és una manera eficaç i senzilla de construir models de xarxes neuronals. Després, durant l'entrenament, es poden realitzar ajustaments als hiperparàmetres i l'arquitectura del model per optimitzar-ne el rendiment en la tasca específica."
      ]
    },
    {
      "cell_type": "markdown",
      "metadata": {
        "id": "SsMGXeDEfHxA"
      },
      "source": [
        "<div class=\"alert alert-block alert-info\">\n",
        "<strong>Implementació:</strong>\n",
        "\n",
        "1. Comença creant el model `Sequential`.\n",
        "2. Afegeix 4 capes ocultes, cadascuna amb 20 neurones, utilitzant el mètode `.add()`. Assegureu-vos que cada capa tingui una funció d'activació `relu`.\n",
        "3. Després, afegeix la capa de sortida amb 2 neurones (una per a la classe 0 i una altra per a la classe 1) i utilitza la funció d'activació `sigmoid`.\n",
        "4. No oblidis mostrar un resum del model que has creat utilitzant el mètode `.summary()`.\n",
        "5. Ara, és hora de compilar el model. Utilitza el mètode `.compile()` i especifica l'optimitzador com `adam`, la funció de pèrdua com `binary_crossentropy`, i la mètrica d'avaluació com `accuracy`.\n",
        "6. Després, entrena el model utilitzant el mètode `.fit()`. Assegureu-vos d'entrenar amb les dades de `X_train`, estableix el nombre d'èpoques en 100 i la mida del lot el 2048. A més, valida el rendiment utilitzant la tècnica de validació creuada amb el 80% de les dades d'entrenament. Configura el paràmetre `validation_split` a 0.2 per aconseguir-ho.\n",
        "7. Per a l'informe final, crea gràfics que mostrin la pèrdua (`loss`) tant a l'entrenament com a la validació al llarg de les èpoques.\n",
        "8. També genera gràfics que representin l'exactitud (accuracy) en l'entrenament i la validació al llarg de les èpoques.\n",
        "9. Recordeu configurar `verbose=0` en entrenar per evitar mostrar informació durant el procés.\n",
        "    \n",
        "</div>"
      ]
    },
    {
      "cell_type": "markdown",
      "metadata": {
        "id": "Cve6TLUdYPNo"
      },
      "source": [
        "<div class=\"alert alert-block alert-danger\">\n",
        "<strong>Solución:</strong>\n",
        "</div>"
      ]
    },
    {
      "cell_type": "code",
      "execution_count": null,
      "metadata": {
        "id": "27hz7RN_fHxA"
      },
      "outputs": [],
      "source": []
    },
    {
      "cell_type": "markdown",
      "metadata": {
        "id": "x0K-KenDfHxA"
      },
      "source": [
        "<div class=\"alert alert-block alert-info\">\n",
        "<strong>Implementació:</strong>\n",
        "\n",
        "Després d'haver entrenat i validat el model, és hora de fer la prova final. Seguiu els passos següents:\n",
        "\n",
        "1. Utilitza el model per predir la classe de `X_test`.\n",
        "2. Calcula la matriu de confusió per avaluar el rendiment de les prediccions.\n",
        "3. Calculeu la precisió (accuracy) per mesurar l'exactitud de les prediccions.\n",
        "4. Calcula la sensibilitat (recall) per avaluar la capacitat del model per identificar positius reals.\n",
        "5. Calcula el valor F1, que és una mesura que combina precisió i sensibilitat.\n",
        "6. Finalment, calcula l'àrea sota la corba ROC (AUC-ROC) per avaluar el rendiment del model a la classificació binària.\n",
        "\n",
        "<strong>Nota:</strong> Repeteix diverses vegades tot el procés i verifica la variabilitat dels resultats.\n",
        "</div>"
      ]
    },
    {
      "cell_type": "markdown",
      "metadata": {
        "id": "W0wK2gjhYPNo"
      },
      "source": [
        "<div class=\"alert alert-block alert-danger\">\n",
        "<strong>Solución:</strong>\n",
        "</div>"
      ]
    },
    {
      "cell_type": "code",
      "execution_count": null,
      "metadata": {
        "id": "01nngzUffHxA"
      },
      "outputs": [],
      "source": []
    },
    {
      "cell_type": "markdown",
      "metadata": {
        "id": "SEH0joumfHxA"
      },
      "source": [
        "<div class=\"alert alert-block alert-info\">\n",
        "<strong>Anàlisi:</strong>\n",
        "    \n",
        "1. Realitza una anàlisi dels resultats i decideix si consideres que aquest model és acceptable.\n",
        "2. Avalua quina de les mesures de rendiment utilitzades és la més apropiada.\n",
        "3. Examina la distribució de les classes i planteja una estratègia, si escau, per assegurar la confiança de l'estudi realitzat.\n",
        "</div>"
      ]
    },
    {
      "cell_type": "markdown",
      "metadata": {
        "id": "nmsXzIu0fHxB",
        "tags": []
      },
      "source": [
        "<div class=\"alert alert-block alert-success\">\n",
        "<strong>Resposta:</strong>\n",
        "\n",
        "\n",
        "</div>"
      ]
    },
    {
      "cell_type": "markdown",
      "metadata": {
        "id": "rgvq1gBJfHxB"
      },
      "source": [
        "<div class=\"alert alert-block alert-info\">\n",
        "<strong>Implementació:</strong>\n",
        "\n",
        "- Repeteix el procediment anterior considerant lestratègia que consideris necessària per millorar la confiança del model. Utilitza la mateixa configuració de la xarxa neuronal utilitzada.\n",
        "</div>"
      ]
    },
    {
      "cell_type": "markdown",
      "metadata": {
        "id": "oWG47UddYPNp"
      },
      "source": [
        "<div class=\"alert alert-block alert-danger\">\n",
        "<strong>Solución:</strong>\n",
        "</div>"
      ]
    },
    {
      "cell_type": "code",
      "execution_count": null,
      "metadata": {
        "id": "Jlb7DNQofHxB"
      },
      "outputs": [],
      "source": []
    },
    {
      "cell_type": "markdown",
      "metadata": {
        "id": "hrQS71fFfHxB"
      },
      "source": [
        "<div class=\"alert alert-block alert-info\">\n",
        "<strong>Anàlisi:</strong>\n",
        "\n",
        "- Quina és la teva avaluació dels resultats obtinguts? Consideres que aquest model és superior a l'anterior? Podria considerar-se com un model acceptable?\n",
        "- Centrant-nos en les variables predictores, quines estratègies creus que es podrien aplicar per millorar la capacitat predictiva del model?\n",
        "</div>"
      ]
    },
    {
      "cell_type": "markdown",
      "metadata": {
        "id": "2LpbyRcRfHxB",
        "tags": []
      },
      "source": [
        "<div class=\"alert alert-block alert-success\">\n",
        "<strong>Resposta:</strong>\n",
        "\n",
        "\n",
        "</div>"
      ]
    },
    {
      "cell_type": "markdown",
      "metadata": {
        "id": "VKcdPcdxfHxB"
      },
      "source": [
        "## 2.4. Ajustament d'hiperparàmetres.\n",
        "\n",
        "L'ajust d'hiperparàmetres és un procés crucial a l'entrenament de models de xarxes neuronals. Els hiperparàmetres són configuracions que no s'aprenen automàticament durant l'entrenament, a diferència dels pesos de les neurones. En canvi, els has d'ajustar manualment per obtenir un model òptim.\n",
        "\n",
        "Per fer l'ajust d'hiperparàmetres en una xarxa neuronal, seguiu aquests passos:\n",
        "\n",
        "1. Selecciona els hiperparàmetres clau que vols ajustar, com ara la taxa d'aprenentatge, el nombre de capes ocultes, el nombre de neurones a cada capa, la funció d'activació, etc.\n",
        "\n",
        "2. Dividiu les vostres dades en conjunts d'entrenament, validació i prova. El conjunt de validació es fa servir per avaluar el rendiment de diferents configuracions d'hiperparàmetres.\n",
        "\n",
        "3. Entrena el teu model de xarxa neuronal utilitzant diferents combinacions d'hiperparàmetres al conjunt d'entrenament.\n",
        "\n",
        "4. Avalua el rendiment del model al conjunt de validació per a cada conjunt d'hiperparàmetres.\n",
        "\n",
        "5. Ajusta els hiperparàmetres en funció dels resultats al conjunt de validació. Podeu utilitzar tècniques com la cerca en quadrícula o l'optimització bayesiana per trobar la millor combinació d'hiperparàmetres.\n",
        "\n",
        "6. Un cop hagis trobat els millors hiperparàmetres en el conjunt de validació, avalua el rendiment final del model en el conjunt de prova per assegurar-te que generalitzi bé dades no vistes.\n",
        "\n",
        "Recordeu que l'ajust d'hiperparàmetres és un procés iteratiu i pot trigar temps, però és essencial per obtenir un model de xarxes neuronals amb un bon rendiment en tasques de data science."
      ]
    },
    {
      "cell_type": "markdown",
      "metadata": {
        "id": "S4EZ_m9ZfHxB"
      },
      "source": [
        "<div class=\"alert alert-block alert-info\">\n",
        "<strong>Implementació:</strong>\n",
        "    \n",
        "- Per automatitzar el procés de cerca de paràmetres, utilitza la funció `GridSearchCV` de `sklearn.model_selection` i la funció `KerasClassifier` de `keras.wrappers.scikit_learn`\n",
        "</div>"
      ]
    },
    {
      "cell_type": "markdown",
      "metadata": {
        "id": "0YWC8JLJYPNq"
      },
      "source": [
        "<div class=\"alert alert-block alert-danger\">\n",
        "<strong>Solución:</strong>\n",
        "</div>"
      ]
    },
    {
      "cell_type": "code",
      "execution_count": null,
      "metadata": {
        "id": "Ejc3yMKhfHxB"
      },
      "outputs": [],
      "source": []
    }
  ],
  "metadata": {
    "colab": {
      "provenance": [],
      "include_colab_link": true
    },
    "kernelspec": {
      "display_name": "Python 3 (ipykernel)",
      "language": "python",
      "name": "python3"
    },
    "language_info": {
      "codemirror_mode": {
        "name": "ipython",
        "version": 3
      },
      "file_extension": ".py",
      "mimetype": "text/x-python",
      "name": "python",
      "nbconvert_exporter": "python",
      "pygments_lexer": "ipython3",
      "version": "3.11.5"
    }
  },
  "nbformat": 4,
  "nbformat_minor": 0
}